{
 "cells": [
  {
   "cell_type": "markdown",
   "metadata": {},
   "source": [
    "---\n",
    "\n",
    "_You are currently looking at **version 1.0** of this notebook. To download notebooks and datafiles, as well as get help on Jupyter notebooks in the Coursera platform, visit the [Jupyter Notebook FAQ](https://www.coursera.org/learn/python-machine-learning/resources/bANLa) course resource._\n",
    "\n",
    "---"
   ]
  },
  {
   "cell_type": "markdown",
   "metadata": {},
   "source": [
    "## Assignment 4 - Understanding and Predicting Property Maintenance Fines\n",
    "\n",
    "This assignment is based on a data challenge from the Michigan Data Science Team ([MDST](http://midas.umich.edu/mdst/)). \n",
    "\n",
    "The Michigan Data Science Team ([MDST](http://midas.umich.edu/mdst/)) and the Michigan Student Symposium for Interdisciplinary Statistical Sciences ([MSSISS](https://sites.lsa.umich.edu/mssiss/)) have partnered with the City of Detroit to help solve one of the most pressing problems facing Detroit - blight. [Blight violations](http://www.detroitmi.gov/How-Do-I/Report/Blight-Complaint-FAQs) are issued by the city to individuals who allow their properties to remain in a deteriorated condition. Every year, the city of Detroit issues millions of dollars in fines to residents and every year, many of these fines remain unpaid. Enforcing unpaid blight fines is a costly and tedious process, so the city wants to know: how can we increase blight ticket compliance?\n",
    "\n",
    "The first step in answering this question is understanding when and why a resident might fail to comply with a blight ticket. This is where predictive modeling comes in. For this assignment, your task is to predict whether a given blight ticket will be paid on time.\n",
    "\n",
    "All data for this assignment has been provided to us through the [Detroit Open Data Portal](https://data.detroitmi.gov/). **Only the data already included in your Coursera directory can be used for training the model for this assignment.** Nonetheless, we encourage you to look into data from other Detroit datasets to help inform feature creation and model selection. We recommend taking a look at the following related datasets:\n",
    "\n",
    "* [Building Permits](https://data.detroitmi.gov/Property-Parcels/Building-Permits/xw2a-a7tf)\n",
    "* [Trades Permits](https://data.detroitmi.gov/Property-Parcels/Trades-Permits/635b-dsgv)\n",
    "* [Improve Detroit: Submitted Issues](https://data.detroitmi.gov/Government/Improve-Detroit-Submitted-Issues/fwz3-w3yn)\n",
    "* [DPD: Citizen Complaints](https://data.detroitmi.gov/Public-Safety/DPD-Citizen-Complaints-2016/kahe-efs3)\n",
    "* [Parcel Map](https://data.detroitmi.gov/Property-Parcels/Parcel-Map/fxkw-udwf)\n",
    "\n",
    "___\n",
    "\n",
    "We provide you with two data files for use in training and validating your models: train.csv and test.csv. Each row in these two files corresponds to a single blight ticket, and includes information about when, why, and to whom each ticket was issued. The target variable is compliance, which is True if the ticket was paid early, on time, or within one month of the hearing data, False if the ticket was paid after the hearing date or not at all, and Null if the violator was found not responsible. Compliance, as well as a handful of other variables that will not be available at test-time, are only included in train.csv.\n",
    "\n",
    "Note: All tickets where the violators were found not responsible are not considered during evaluation. They are included in the training set as an additional source of data for visualization, and to enable unsupervised and semi-supervised approaches. However, they are not included in the test set.\n",
    "\n",
    "<br>\n",
    "\n",
    "**File descriptions** (Use only this data for training your model!)\n",
    "\n",
    "    train.csv - the training set (all tickets issued 2004-2011)\n",
    "    test.csv - the test set (all tickets issued 2012-2016)\n",
    "    addresses.csv & latlons.csv - mapping from ticket id to addresses, and from addresses to lat/lon coordinates. \n",
    "     Note: misspelled addresses may be incorrectly geolocated.\n",
    "\n",
    "<br>\n",
    "\n",
    "**Data fields**\n",
    "\n",
    "train.csv & test.csv\n",
    "\n",
    "    ticket_id - unique identifier for tickets\n",
    "    agency_name - Agency that issued the ticket\n",
    "    inspector_name - Name of inspector that issued the ticket\n",
    "    violator_name - Name of the person/organization that the ticket was issued to\n",
    "    violation_street_number, violation_street_name, violation_zip_code - Address where the violation occurred\n",
    "    mailing_address_str_number, mailing_address_str_name, city, state, zip_code, non_us_str_code, country - Mailing address of the violator\n",
    "    ticket_issued_date - Date and time the ticket was issued\n",
    "    hearing_date - Date and time the violator's hearing was scheduled\n",
    "    violation_code, violation_description - Type of violation\n",
    "    disposition - Judgment and judgement type\n",
    "    fine_amount - Violation fine amount, excluding fees\n",
    "    admin_fee - $20 fee assigned to responsible judgments\n",
    "state_fee - $10 fee assigned to responsible judgments\n",
    "    late_fee - 10% fee assigned to responsible judgments\n",
    "    discount_amount - discount applied, if any\n",
    "    clean_up_cost - DPW clean-up or graffiti removal cost\n",
    "    judgment_amount - Sum of all fines and fees\n",
    "    grafitti_status - Flag for graffiti violations\n",
    "    \n",
    "train.csv only\n",
    "\n",
    "    payment_amount - Amount paid, if any\n",
    "    payment_date - Date payment was made, if it was received\n",
    "    payment_status - Current payment status as of Feb 1 2017\n",
    "    balance_due - Fines and fees still owed\n",
    "    collection_status - Flag for payments in collections\n",
    "    compliance [target variable for prediction] \n",
    "     Null = Not responsible\n",
    "     0 = Responsible, non-compliant\n",
    "     1 = Responsible, compliant\n",
    "    compliance_detail - More information on why each ticket was marked compliant or non-compliant\n",
    "\n",
    "\n",
    "___\n",
    "\n",
    "## Evaluation\n",
    "\n",
    "Your predictions will be given as the probability that the corresponding blight ticket will be paid on time.\n",
    "\n",
    "The evaluation metric for this assignment is the Area Under the ROC Curve (AUC). \n",
    "\n",
    "Your grade will be based on the AUC score computed for your classifier. A model which with an AUROC of 0.7 passes this assignment, over 0.75 will recieve full points.\n",
    "___\n",
    "\n",
    "For this assignment, create a function that trains a model to predict blight ticket compliance in Detroit using `train.csv`. Using this model, return a series of length 61001 with the data being the probability that each corresponding ticket from `test.csv` will be paid, and the index being the ticket_id.\n",
    "\n",
    "Example:\n",
    "\n",
    "    ticket_id\n",
    "       284932    0.531842\n",
    "       285362    0.401958\n",
    "       285361    0.105928\n",
    "       285338    0.018572\n",
    "                 ...\n",
    "       376499    0.208567\n",
    "       376500    0.818759\n",
    "       369851    0.018528\n",
    "       Name: compliance, dtype: float32"
   ]
  },
  {
   "cell_type": "code",
   "execution_count": 6,
   "metadata": {},
   "outputs": [
    {
     "name": "stdout",
     "output_type": "stream",
     "text": [
      "<class 'pandas.core.frame.DataFrame'>\n",
      "RangeIndex: 250306 entries, 0 to 250305\n",
      "Data columns (total 34 columns):\n",
      "ticket_id                     250306 non-null int64\n",
      "agency_name                   250306 non-null object\n",
      "inspector_name                250306 non-null object\n",
      "violator_name                 250272 non-null object\n",
      "violation_street_number       250306 non-null float64\n",
      "violation_street_name         250306 non-null object\n",
      "violation_zip_code            0 non-null float64\n",
      "mailing_address_str_number    246704 non-null float64\n",
      "mailing_address_str_name      250302 non-null object\n",
      "city                          250306 non-null object\n",
      "state                         250213 non-null object\n",
      "zip_code                      250305 non-null object\n",
      "non_us_str_code               3 non-null object\n",
      "country                       250306 non-null object\n",
      "ticket_issued_date            250306 non-null datetime64[ns]\n",
      "hearing_date                  237815 non-null datetime64[ns]\n",
      "violation_code                250306 non-null object\n",
      "violation_description         250306 non-null object\n",
      "disposition                   250306 non-null object\n",
      "fine_amount                   250305 non-null float64\n",
      "admin_fee                     250306 non-null float64\n",
      "state_fee                     250306 non-null float64\n",
      "late_fee                      250306 non-null float64\n",
      "discount_amount               250306 non-null float64\n",
      "clean_up_cost                 250306 non-null float64\n",
      "judgment_amount               250306 non-null float64\n",
      "payment_amount                250306 non-null float64\n",
      "balance_due                   250306 non-null float64\n",
      "payment_date                  41113 non-null datetime64[ns]\n",
      "payment_status                250306 non-null object\n",
      "collection_status             36897 non-null object\n",
      "grafitti_status               1 non-null object\n",
      "compliance_detail             250306 non-null object\n",
      "compliance                    159880 non-null float64\n",
      "dtypes: datetime64[ns](3), float64(13), int64(1), object(17)\n",
      "memory usage: 64.9+ MB\n"
     ]
    }
   ],
   "source": [
    "import pandas as pd\n",
    "import numpy as np\n",
    "import matplotlib.pyplot as plt\n",
    "%matplotlib inline \n",
    "\n",
    "# importing data\n",
    "train_data = pd.read_csv('train.csv', encoding = \"ISO-8859-1\", low_memory=False, parse_dates=[14, 15, 28])\n",
    "#test_data = pd.read_csv('test.csv', encoding = \"ISO-8859-1\", low_memory=False)\n",
    "\n",
    "train_data.info()"
   ]
  },
  {
   "cell_type": "code",
   "execution_count": 74,
   "metadata": {},
   "outputs": [
    {
     "name": "stdout",
     "output_type": "stream",
     "text": [
      "percentage that paid:  0.07253565173880411\n"
     ]
    }
   ],
   "source": [
    "## how many people complied?\n",
    "print('percentage that complied: ', train_data['compliance'].mean())"
   ]
  },
  {
   "cell_type": "code",
   "execution_count": 8,
   "metadata": {},
   "outputs": [
    {
     "name": "stdout",
     "output_type": "stream",
     "text": [
      "<class 'pandas.core.frame.DataFrame'>\n",
      "RangeIndex: 250306 entries, 0 to 250305\n",
      "Data columns (total 28 columns):\n",
      "ticket_id                     250306 non-null int64\n",
      "agency_name                   250306 non-null int8\n",
      "inspector_name                250306 non-null int16\n",
      "violator_name                 250306 non-null int32\n",
      "violation_street_number       250306 non-null float64\n",
      "violation_street_name         250306 non-null int16\n",
      "mailing_address_str_number    250306 non-null float64\n",
      "mailing_address_str_name      250306 non-null int32\n",
      "city                          250306 non-null int16\n",
      "state                         250306 non-null int8\n",
      "zip_code                      250306 non-null int16\n",
      "non_us_str_code               250306 non-null int8\n",
      "country                       250306 non-null int8\n",
      "violation_code                250306 non-null int16\n",
      "violation_description         250306 non-null int16\n",
      "disposition                   250306 non-null int8\n",
      "fine_amount                   250306 non-null float64\n",
      "admin_fee                     250306 non-null float64\n",
      "state_fee                     250306 non-null float64\n",
      "late_fee                      250306 non-null float64\n",
      "discount_amount               250306 non-null float64\n",
      "clean_up_cost                 250306 non-null float64\n",
      "judgment_amount               250306 non-null float64\n",
      "compliance_detail             250306 non-null int8\n",
      "compliance                    250306 non-null float64\n",
      "hearing_time_diff             250306 non-null int64\n",
      "ticket_quarter                250306 non-null int64\n",
      "hearing_quarter               250306 non-null int64\n",
      "dtypes: float64(10), int16(6), int32(2), int64(4), int8(6)\n",
      "memory usage: 32.9 MB\n"
     ]
    }
   ],
   "source": [
    "## pre-processing the data\n",
    "train_data['hearing_time_diff'] = (train_data['hearing_date']-train_data['ticket_issued_date']).dt.days\n",
    "train_data['hearing_time_diff'].fillna(value=0, inplace=True)\n",
    "train_data['hearing_time_diff'] = train_data['hearing_time_diff'].astype(int)\n",
    "\n",
    "process_data = train_data.copy()\n",
    "\n",
    "process_data['ticket_quarter'] = process_data['ticket_issued_date'].dt.quarter\n",
    "process_data['hearing_quarter'] = process_data['hearing_date'].dt.quarter\n",
    "process_data['hearing_quarter'] = process_data['hearing_quarter'].fillna(value=0).astype(int)\n",
    "\n",
    "process_data.drop(columns=['violation_zip_code', 'grafitti_status', 'payment_date', 'hearing_date', \n",
    "                           'ticket_issued_date', 'payment_amount', 'payment_status', \n",
    "                           'balance_due', 'collection_status'], inplace=True)\n",
    "process_data['compliance'].fillna(value=0, inplace=True)\n",
    "process_data['mailing_address_str_number'].fillna(value=0, inplace=True)\n",
    "process_data['fine_amount'].fillna(value=0, inplace=True)\n",
    "\n",
    "for col in process_data.select_dtypes(include=['object']).columns:\n",
    "    process_data[col].fillna(value='None', inplace=True)\n",
    "    process_data[col] = pd.Categorical(process_data[col], categories=process_data[col].unique()).codes\n",
    "\n",
    "process_data.info()"
   ]
  },
  {
   "cell_type": "code",
   "execution_count": 11,
   "metadata": {},
   "outputs": [
    {
     "data": {
      "image/png": "[encoded data removed]",
      "text/plain": [
       "<Figure size 432x288 with 2 Axes>"
      ]
     },
     "metadata": {},
     "output_type": "display_data"
    }
   ],
   "source": [
    "## analysing new created features\n",
    "plt.subplot(121)\n",
    "process_data.loc[process_data['compliance']==1, 'ticket_quarter'].hist(density=True)\n",
    "plt.title('complied')\n",
    "plt.subplot(122)\n",
    "process_data.loc[process_data['compliance']==0, 'ticket_quarter'].hist(color='green', density=True)\n",
    "plt.title(\"didn't complied\")\n",
    "\n",
    "plt.show()"
   ]
  },
  {
   "cell_type": "code",
   "execution_count": 13,
   "metadata": {},
   "outputs": [
    {
     "data": {
      "image/png": "[encoded data removed]",
      "text/plain": [
       "<Figure size 432x288 with 2 Axes>"
      ]
     },
     "metadata": {},
     "output_type": "display_data"
    },
    {
     "name": "stdout",
     "output_type": "stream",
     "text": [
      "['Buildings, Safety Engineering & Env Department'\n",
      " 'Department of Public Works' 'Detroit Police Department'\n",
      " 'Health Department' 'Neighborhood City Halls']\n"
     ]
    }
   ],
   "source": [
    "## Visualizing and analysing agency data\n",
    "paid_names = train_data.loc[train_data['compliance']==1, 'agency_name'].unique()\n",
    "non_paid_names = train_data.loc[train_data['compliance']==0, 'agency_name'].unique()\n",
    "\n",
    "paid_counts = train_data.loc[train_data['compliance']==1, 'agency_name'].value_counts()\n",
    "non_paid_counts = train_data.loc[train_data['compliance']==0, 'agency_name'].value_counts()\n",
    "\n",
    "x1 = np.arange(len(paid_names))\n",
    "x2 = np.arange(len(non_paid_names))\n",
    "\n",
    "short1 = [[word[0] for word in name.split(' ')] for name in paid_names]\n",
    "short1 = [''.join(letters) for letters in short1]\n",
    "\n",
    "short2 = [[word[0] for word in name.split(' ')] for name in non_paid_names]\n",
    "short2 = [''.join(letters) for letters in short2]\n",
    "\n",
    "plt.figure()\n",
    "plt.subplot(121)\n",
    "plt.bar(x1, paid_counts.values)\n",
    "plt.title('compliants')\n",
    "plt.xticks(x1, short1)\n",
    "\n",
    "plt.subplot(122)\n",
    "plt.bar(x2, non_paid_counts, color='green')\n",
    "plt.title('non compliants')\n",
    "plt.xticks(x2, short2)\n",
    "\n",
    "plt.tight_layout()\n",
    "plt.show()\n",
    "\n",
    "print(np.union1d(paid_names, non_paid_names))\n"
   ]
  },
  {
   "cell_type": "code",
   "execution_count": 45,
   "metadata": {},
   "outputs": [
    {
     "data": {
      "image/png": "[encoded data removed]",
      "text/plain": [
       "<Figure size 432x288 with 2 Axes>"
      ]
     },
     "metadata": {},
     "output_type": "display_data"
    }
   ],
   "source": [
    "## compliance per city\n",
    "paid_names = train_data.loc[train_data['compliance']==1, 'country'].unique()\n",
    "non_paid_names = train_data.loc[train_data['compliance']==0, 'country'].unique()\n",
    "\n",
    "paid_counts = train_data.loc[train_data['compliance']==1, 'country'].value_counts()\n",
    "non_paid_counts = train_data.loc[train_data['compliance']==0, 'country'].value_counts()\n",
    "\n",
    "x1 = np.arange(len(paid_names))\n",
    "x2 = np.arange(len(non_paid_names))\n",
    "\n",
    "plt.figure()\n",
    "plt.subplot(121)\n",
    "plt.bar(x1, paid_counts.values)\n",
    "plt.title('compliants')\n",
    "plt.xticks(x1, paid_names)\n",
    "plt.axis([-1, len(x1), 0, 100])\n",
    "\n",
    "pos = 0\n",
    "for value in paid_counts.values:\n",
    "    plt.annotate(str(value), xy=(pos, min([85, value])), fontsize=12, ha=\"center\")\n",
    "    pos+=1\n",
    "\n",
    "plt.subplot(122)\n",
    "plt.bar(x2, non_paid_counts, color='green')\n",
    "plt.title('non compliants')\n",
    "plt.xticks(x2, non_paid_names)\n",
    "plt.axis([-1, len(x2), 0, 100])\n",
    "\n",
    "pos = 0\n",
    "for value in non_paid_counts.values:\n",
    "    plt.annotate(str(value), xy=(pos, min([85, value])), fontsize=12, ha=\"center\")\n",
    "    pos+=1\n",
    "\n",
    "plt.tight_layout()\n",
    "plt.show()\n"
   ]
  },
  {
   "cell_type": "code",
   "execution_count": 50,
   "metadata": {},
   "outputs": [
    {
     "name": "stdout",
     "output_type": "stream",
     "text": [
      "['NO PAYMENT APPLIED' 'PAID IN FULL' 'PARTIAL PAYMENT APPLIED']\n"
     ]
    },
    {
     "data": {
      "image/png": "[encoded data removed]",
      "text/plain": [
       "<Figure size 432x288 with 1 Axes>"
      ]
     },
     "metadata": {},
     "output_type": "display_data"
    }
   ],
   "source": [
    "## Visualizing and analysing compliance status\n",
    "pay_names = train_data['payment_status'].unique()\n",
    "pay_counts = train_data['payment_status'].value_counts()\n",
    "x = np.arange(len(pay_names))\n",
    "\n",
    "fig, ax2 = plt.subplots()\n",
    "ax2.bar(x, pay_counts.values)\n",
    "plt.xticks(x, [pays.split(' ')[0] for pays in pay_names])\n",
    "\n",
    "print(pay_names)\n",
    "plt.show()"
   ]
  },
  {
   "cell_type": "code",
   "execution_count": 47,
   "metadata": {
    "scrolled": true
   },
   "outputs": [
    {
     "data": {
      "image/png": "[encoded data removed]",
      "text/plain": [
       "<Figure size 432x288 with 2 Axes>"
      ]
     },
     "metadata": {},
     "output_type": "display_data"
    },
    {
     "data": {
      "image/png": "[encoded data removed]",
      "text/plain": [
       "<Figure size 432x288 with 2 Axes>"
      ]
     },
     "metadata": {},
     "output_type": "display_data"
    },
    {
     "data": {
      "image/png": "[encoded data removed]",
      "text/plain": [
       "<Figure size 432x288 with 2 Axes>"
      ]
     },
     "metadata": {},
     "output_type": "display_data"
    },
    {
     "data": {
      "image/png": "[encoded data removed]",
      "text/plain": [
       "<Figure size 432x288 with 2 Axes>"
      ]
     },
     "metadata": {},
     "output_type": "display_data"
    }
   ],
   "source": [
    "## verifying the prices\n",
    "plt.figure(1)\n",
    "plt.subplot(121)\n",
    "train_data.loc[train_data['compliance']==1, 'fine_amount'].hist(color='green', density=True)\n",
    "plt.title('fine - compliant')\n",
    "plt.subplot(122)\n",
    "train_data.loc[train_data['compliance']==0, 'fine_amount'].hist(color='green', density=True)\n",
    "plt.title('fine - non comp.')\n",
    "plt.tight_layout()\n",
    "\n",
    "plt.figure(2)\n",
    "plt.subplot(121)\n",
    "train_data.loc[train_data['compliance']==1, 'discount_amount'].hist(color='orange', density=True)\n",
    "plt.title('discount - compliant')\n",
    "plt.subplot(122)\n",
    "train_data.loc[train_data['compliance']==0, 'discount_amount'].hist(color='orange', density=True)\n",
    "plt.title('discount - non compliant')\n",
    "plt.tight_layout()\n",
    "\n",
    "plt.figure(3)\n",
    "plt.subplot(121)\n",
    "train_data.loc[train_data['compliance']==1, 'late_fee'].hist(color='cyan', density=True)\n",
    "plt.title('late - compliant')\n",
    "plt.subplot(122)\n",
    "train_data.loc[train_data['compliance']==0, 'late_fee'].hist(color='cyan', density=True)\n",
    "plt.title('late - non compliant')\n",
    "plt.tight_layout()\n",
    "\n",
    "\n",
    "plt.figure(4)\n",
    "plt.subplot(121)\n",
    "train_data.loc[train_data['compliance']==1, 'judgment_amount'].hist(density=True)\n",
    "plt.title('total - compliant')\n",
    "plt.subplot(122)\n",
    "train_data.loc[train_data['compliance']==0, 'judgment_amount'].hist(density=True)\n",
    "plt.title('total - non compliant')\n",
    "plt.tight_layout()\n",
    "\n",
    "plt.show()"
   ]
  },
  {
   "cell_type": "code",
   "execution_count": 9,
   "metadata": {},
   "outputs": [
    {
     "name": "stdout",
     "output_type": "stream",
     "text": [
      "train size: (187729, 27)\n",
      "test size:  (62577, 27)\n"
     ]
    }
   ],
   "source": [
    "## Organizing train and test data\n",
    "from sklearn.model_selection import train_test_split\n",
    "\n",
    "X = process_data.drop(columns='compliance').values\n",
    "y = process_data.loc[:,'compliance'].values\n",
    "\n",
    "X_train, X_test, y_train, y_test = train_test_split(X, y, random_state=0)\n",
    "\n",
    "del train_data, process_data\n",
    "\n",
    "print('train size:', X_train.shape)\n",
    "print('test size: ', X_test.shape)"
   ]
  },
  {
   "cell_type": "code",
   "execution_count": 10,
   "metadata": {},
   "outputs": [
    {
     "name": "stdout",
     "output_type": "stream",
     "text": [
      "score:  0.7071677867496269\n",
      "CM:  [[29982 29619]\n",
      " [  264  2712]]\n"
     ]
    }
   ],
   "source": [
    "## testing a Naive Bayes model\n",
    "from sklearn.naive_bayes import GaussianNB\n",
    "from sklearn.metrics import confusion_matrix\n",
    "from sklearn.metrics import roc_auc_score\n",
    "\n",
    "def NB_test():\n",
    "    model = GaussianNB().fit(X_train, y_train)\n",
    "    \n",
    "    y_pred = model.predict(X_test)\n",
    "    \n",
    "    scored = roc_auc_score(y_test, y_pred)\n",
    "    print('score: ', scored)\n",
    "    print('CM: ', confusion_matrix(y_test, y_pred))\n",
    "\n",
    "NB_test()"
   ]
  },
  {
   "cell_type": "code",
   "execution_count": 11,
   "metadata": {},
   "outputs": [
    {
     "name": "stdout",
     "output_type": "stream",
     "text": [
      "score:  1.0\n",
      "CM:  [[59601     0]\n",
      " [    0  2976]]\n"
     ]
    }
   ],
   "source": [
    "## testing a random forest classifier\n",
    "from sklearn.ensemble import RandomForestClassifier\n",
    "from sklearn.metrics import confusion_matrix\n",
    "from sklearn.metrics import roc_auc_score\n",
    "\n",
    "def RF_test():\n",
    "    model = RandomForestClassifier(n_estimators=100).fit(X_train, y_train)\n",
    "    \n",
    "    y_pred = model.predict(X_test)\n",
    "    \n",
    "    scored = roc_auc_score(y_test, y_pred)\n",
    "    print('score: ', scored)\n",
    "    print('CM: ', confusion_matrix(y_test, y_pred))\n",
    "    \n",
    "RF_test()"
   ]
  },
  {
   "cell_type": "code",
   "execution_count": 52,
   "metadata": {},
   "outputs": [
    {
     "data": {
      "text/plain": [
       "0"
      ]
     },
     "execution_count": 52,
     "metadata": {},
     "output_type": "execute_result"
    }
   ],
   "source": [
    "def blight_model():\n",
    "    \n",
    "    model = RandomForestClassifier(n_estimators=100).fit(X, y)\n",
    "    \n",
    "    y_pred = model.predict(X_pred)\n",
    "    \n",
    "    #scored = roc_auc_score(y_test, y_pred)\n",
    "    #print('score: ', scored)\n",
    "    #print('CM: ', confusion_matrix(y_test, y_pred))\n",
    "    \n",
    "    return 0\n",
    "\n",
    "blight_model()"
   ]
  }
 ],
 "metadata": {
  "coursera": {
   "course_slug": "python-machine-learning",
   "graded_item_id": "nNS8l",
   "launcher_item_id": "yWWk7",
   "part_id": "w8BSS"
  },
  "kernelspec": {
   "display_name": "Python 3",
   "language": "python",
   "name": "python3"
  },
  "language_info": {
   "codemirror_mode": {
    "name": "ipython",
    "version": 3
   },
   "file_extension": ".py",
   "mimetype": "text/x-python",
   "name": "python",
   "nbconvert_exporter": "python",
   "pygments_lexer": "ipython3",
   "version": "3.6.6"
  }
 },
 "nbformat": 4,
 "nbformat_minor": 2
}
